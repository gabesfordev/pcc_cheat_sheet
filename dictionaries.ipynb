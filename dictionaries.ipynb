{
  "nbformat": 4,
  "nbformat_minor": 0,
  "metadata": {
    "colab": {
      "name": "dictionaries.ipynb",
      "provenance": [],
      "collapsed_sections": [],
      "authorship_tag": "ABX9TyMLTbuxzbSmvReMpGO+YrCf",
      "include_colab_link": true
    },
    "kernelspec": {
      "name": "python3",
      "display_name": "Python 3"
    },
    "language_info": {
      "name": "python"
    }
  },
  "cells": [
    {
      "cell_type": "markdown",
      "metadata": {
        "id": "view-in-github",
        "colab_type": "text"
      },
      "source": [
        "<a href=\"https://colab.research.google.com/github/gabesfordev/pcc_cheat_sheet/blob/main/dictionaries.ipynb\" target=\"_parent\"><img src=\"https://colab.research.google.com/assets/colab-badge.svg\" alt=\"Open In Colab\"/></a>"
      ]
    },
    {
      "cell_type": "markdown",
      "metadata": {
        "id": "stJuzq_VXg5A"
      },
      "source": [
        "# What are dictionaries?"
      ]
    },
    {
      "cell_type": "markdown",
      "metadata": {
        "id": "uvdQJ0TwXqzf"
      },
      "source": [
        "```\n",
        "Python's dictionaries allow you to connect pieces of\n",
        "related information. Each piece of information in a\n",
        "dictionary is stored as a key-value pair. When you\n",
        "provide a key, Python returns the value associated\n",
        "with that key. You can loop through all the key-value\n",
        "pairs, all the keys, or all the values.\n",
        "```"
      ]
    },
    {
      "cell_type": "markdown",
      "metadata": {
        "id": "0X_fiVP0X5iS"
      },
      "source": [
        "# Defining a dictionary"
      ]
    },
    {
      "cell_type": "markdown",
      "metadata": {
        "id": "FNk1-2_6X9Bn"
      },
      "source": [
        "Use Curly braces to define a dictionary. Use colons to connect keys and values, and use commas to separate individual key-value pairs."
      ]
    },
    {
      "cell_type": "markdown",
      "metadata": {
        "id": "1A_g0c23YULw"
      },
      "source": [
        "```\n",
        "Making a dictionary\n",
        "```"
      ]
    },
    {
      "cell_type": "code",
      "metadata": {
        "id": "QwRG1x6fXdXV"
      },
      "source": [
        "alien_0 = {'color': 'green', 'points': 5}"
      ],
      "execution_count": 1,
      "outputs": []
    },
    {
      "cell_type": "code",
      "metadata": {
        "colab": {
          "base_uri": "https://localhost:8080/"
        },
        "id": "mK7J02C1YfAR",
        "outputId": "6f8fe8f6-e5ac-437d-b6af-5a00877e3f31"
      },
      "source": [
        "alien_0"
      ],
      "execution_count": 2,
      "outputs": [
        {
          "output_type": "execute_result",
          "data": {
            "text/plain": [
              "{'color': 'green', 'points': 5}"
            ]
          },
          "metadata": {},
          "execution_count": 2
        }
      ]
    },
    {
      "cell_type": "markdown",
      "metadata": {
        "id": "GZCQcetyh67R"
      },
      "source": [
        "# Accessing values"
      ]
    },
    {
      "cell_type": "markdown",
      "metadata": {
        "id": "JVWwRJLaiN2C"
      },
      "source": [
        "To access the value associated with an individual key give\n",
        "the name of the dictionary and then place the key in a set of\n",
        "square brackets. If the key you're asking for is not in the\n",
        "dictionary, an error will occur.\n",
        "\n",
        "You can also use the get() method, which returns None\n",
        "instead of an error if the key doesn't exist. You can also\n",
        "specify a default value to use if the key is not in the\n",
        "dictionary."
      ]
    },
    {
      "cell_type": "markdown",
      "metadata": {
        "id": "2ZUIEb-NiVHN"
      },
      "source": [
        "```\n",
        "Getting the value associated with a key\n",
        "```"
      ]
    },
    {
      "cell_type": "code",
      "metadata": {
        "colab": {
          "base_uri": "https://localhost:8080/"
        },
        "id": "FPgfTJz1YiDA",
        "outputId": "d55713f3-efba-481b-bf37-2a243061a235"
      },
      "source": [
        "alien_0 = {'color': 'green', 'points': 5}\n",
        "\n",
        "print(alien_0['color'])\n",
        "print(alien_0['points'])"
      ],
      "execution_count": 4,
      "outputs": [
        {
          "output_type": "stream",
          "name": "stdout",
          "text": [
            "green\n",
            "5\n"
          ]
        }
      ]
    },
    {
      "cell_type": "markdown",
      "metadata": {
        "id": "kxYAOlkYjDTl"
      },
      "source": [
        "```\n",
        "Getting the value with get()\n",
        "```"
      ]
    },
    {
      "cell_type": "code",
      "metadata": {
        "colab": {
          "base_uri": "https://localhost:8080/"
        },
        "id": "i2AHJHKgZFqf",
        "outputId": "042a477e-556f-4a0b-90b7-391713790be9"
      },
      "source": [
        "alien_0 = {'color': 'green'}\n",
        "\n",
        "alien_color = alien_0.get('color')\n",
        "alien_points = alien_0.get('points', 0)\n",
        "\n",
        "print(alien_color)\n",
        "print(alien_points)"
      ],
      "execution_count": 8,
      "outputs": [
        {
          "output_type": "stream",
          "name": "stdout",
          "text": [
            "green\n",
            "0\n"
          ]
        }
      ]
    },
    {
      "cell_type": "markdown",
      "metadata": {
        "id": "PANmUybujwpD"
      },
      "source": [
        "# Adding new key-value pairs"
      ]
    },
    {
      "cell_type": "markdown",
      "metadata": {
        "id": "9hnbjCInj5Em"
      },
      "source": [
        "You can store as many key-value pairs as you want in a\n",
        "dictionary, until your computer runs out of memory. To add\n",
        "a new key-value pair to an existing dictionary give the name\n",
        "of the dictionary and the new key in square brackets, and\n",
        "set it equal to the new value.\n",
        "\n",
        "This also allows you to start with an empty dictionary and\n",
        "add key-value pairs as they become relevant."
      ]
    },
    {
      "cell_type": "markdown",
      "metadata": {
        "id": "cl3TlYqPj_r-"
      },
      "source": [
        "```\n",
        "Adding a key-value pair\n",
        "```"
      ]
    },
    {
      "cell_type": "code",
      "metadata": {
        "colab": {
          "base_uri": "https://localhost:8080/"
        },
        "id": "b1MMbTORjQnZ",
        "outputId": "a49dc1d3-579d-4a93-a8be-09983746a249"
      },
      "source": [
        "alien_0 = {'color': 'green', 'points': 5}\n",
        "print(alien_0)\n",
        "\n",
        "alien_0['x'] = 0\n",
        "alien_0['y'] = 25\n",
        "alien_0['speed'] = 1.5\n",
        "print(alien_0)"
      ],
      "execution_count": 13,
      "outputs": [
        {
          "output_type": "stream",
          "name": "stdout",
          "text": [
            "{'color': 'green', 'points': 5}\n",
            "{'color': 'green', 'points': 5, 'x': 0, 'y': 25, 'speed': 1.5}\n"
          ]
        }
      ]
    },
    {
      "cell_type": "markdown",
      "metadata": {
        "id": "gqwppUSwl6i_"
      },
      "source": [
        "```\n",
        "Adding to an empty dictionary\n",
        "```"
      ]
    },
    {
      "cell_type": "code",
      "metadata": {
        "colab": {
          "base_uri": "https://localhost:8080/"
        },
        "id": "VL2Xfh-7mDTi",
        "outputId": "1c4e774d-4dbf-4eec-9098-f2a16ecdffea"
      },
      "source": [
        "alien_0 = {}\n",
        "alien_0['color'] = 'green'\n",
        "alien_0['points'] = 5\n",
        "alien_0"
      ],
      "execution_count": 15,
      "outputs": [
        {
          "output_type": "execute_result",
          "data": {
            "text/plain": [
              "{'color': 'green', 'points': 5}"
            ]
          },
          "metadata": {},
          "execution_count": 15
        }
      ]
    },
    {
      "cell_type": "markdown",
      "metadata": {
        "id": "jQM_-RMrmc1u"
      },
      "source": [
        "# Modifying values"
      ]
    },
    {
      "cell_type": "markdown",
      "metadata": {
        "id": "4Za3c0tomh-7"
      },
      "source": [
        "You can modify the value associated with any key in a\n",
        "dictionary. To do so give the name of the dictionary and\n",
        "enclose the key in square brackets, then provide the new\n",
        "value for that key."
      ]
    },
    {
      "cell_type": "code",
      "metadata": {
        "colab": {
          "base_uri": "https://localhost:8080/"
        },
        "id": "25ttwl6RmHEA",
        "outputId": "09aaa62f-ed63-4254-eef2-af1f3e934b2c"
      },
      "source": [
        "alien_0 = {'color': 'green', 'points': 5}\n",
        "print(alien_0)\n",
        "\n",
        "# Change the alien's color and point value.\n",
        "alien_0['color'] = 'yellow'\n",
        "alien_0['points'] = 10\n",
        "print(alien_0)"
      ],
      "execution_count": 17,
      "outputs": [
        {
          "output_type": "stream",
          "name": "stdout",
          "text": [
            "{'color': 'green', 'points': 5}\n",
            "{'color': 'yellow', 'points': 10}\n"
          ]
        }
      ]
    },
    {
      "cell_type": "markdown",
      "metadata": {
        "id": "QlLx006SnqSv"
      },
      "source": [
        "# Removing key-value pairs"
      ]
    },
    {
      "cell_type": "markdown",
      "metadata": {
        "id": "d6KzZHzunwiq"
      },
      "source": [
        "You can remove any key-value pair you want from a\n",
        "dictionary. To do so use the del keyword and the dictionary\n",
        "name, followed by the key in square brackets. This will\n",
        "delete the key and its associated value."
      ]
    },
    {
      "cell_type": "markdown",
      "metadata": {
        "id": "SY2TWMHTny-w"
      },
      "source": [
        "```\n",
        "Deleting a key-value pair\n",
        "```"
      ]
    },
    {
      "cell_type": "code",
      "metadata": {
        "colab": {
          "base_uri": "https://localhost:8080/"
        },
        "id": "qG-OUMSgnG_o",
        "outputId": "04c3c6e8-ae94-44aa-e001-fbc1d6a0f425"
      },
      "source": [
        "alien_0 = {'color': 'green', 'points': 5}\n",
        "print(alien_0)\n",
        "\n",
        "del alien_0['points']\n",
        "print(alien_0)"
      ],
      "execution_count": 18,
      "outputs": [
        {
          "output_type": "stream",
          "name": "stdout",
          "text": [
            "{'color': 'green', 'points': 5}\n",
            "{'color': 'green'}\n"
          ]
        }
      ]
    },
    {
      "cell_type": "markdown",
      "metadata": {
        "id": "5MdW28HcoM1j"
      },
      "source": [
        "# Looping through a dictionary"
      ]
    },
    {
      "cell_type": "markdown",
      "metadata": {
        "id": "8UzpdTamoRN9"
      },
      "source": [
        "You can loop through a dictionary in three ways: you can\n",
        "loop through all the key-value pairs, all the keys, or all the\n",
        "values.\n",
        "\n",
        "A dictionary only tracks the connections between keys\n",
        "and values; it doesn't track the order of items in the\n",
        "dictionary. If you want to process the information in order,\n",
        "you can sort the keys in your loop."
      ]
    },
    {
      "cell_type": "markdown",
      "metadata": {
        "id": "0gg8qgEepWpW"
      },
      "source": [
        "```\n",
        "Looping through all key-value pairs\n",
        "```"
      ]
    },
    {
      "cell_type": "code",
      "metadata": {
        "colab": {
          "base_uri": "https://localhost:8080/"
        },
        "id": "R9Xos4N8oBDk",
        "outputId": "da91fb1b-7b29-458f-f9f6-959681bbaa35"
      },
      "source": [
        "# Store people's favorita languages.\n",
        "fav_languages = {\n",
        "    'jen': 'python',\n",
        "    'sarah': 'c',\n",
        "    'edward': 'ruby',\n",
        "    'phil': 'python',\n",
        "}\n",
        "\n",
        "# Show each person's favorite languages.\n",
        "for name, language in fav_languages.items():\n",
        "  print(name + ': ' + language)"
      ],
      "execution_count": 22,
      "outputs": [
        {
          "output_type": "stream",
          "name": "stdout",
          "text": [
            "jen: python\n",
            "sarah: c\n",
            "edward: ruby\n",
            "phil: python\n"
          ]
        }
      ]
    },
    {
      "cell_type": "markdown",
      "metadata": {
        "id": "DbhKxudrpQ36"
      },
      "source": [
        "```\n",
        "Looping through all keys\n",
        "```"
      ]
    },
    {
      "cell_type": "code",
      "metadata": {
        "colab": {
          "base_uri": "https://localhost:8080/"
        },
        "id": "fP6j95DJoyw0",
        "outputId": "18643fe7-78ae-4e80-e4e5-25a25989e265"
      },
      "source": [
        "# Show everyone who's taken the survey.\n",
        "for name in fav_languages.keys():\n",
        "  print(name)"
      ],
      "execution_count": 23,
      "outputs": [
        {
          "output_type": "stream",
          "name": "stdout",
          "text": [
            "jen\n",
            "sarah\n",
            "edward\n",
            "phil\n"
          ]
        }
      ]
    },
    {
      "cell_type": "markdown",
      "metadata": {
        "id": "qEMdzTTxqMre"
      },
      "source": [
        "```\n",
        "Looping through all the values\n",
        "```"
      ]
    },
    {
      "cell_type": "code",
      "metadata": {
        "colab": {
          "base_uri": "https://localhost:8080/"
        },
        "id": "Rp-tsR0BrEph",
        "outputId": "4298d76f-9a92-4d72-bd31-c785786e9527"
      },
      "source": [
        "# Show all the languages that have been chosen.\n",
        "for language in fav_languages.values():\n",
        "  print(language)"
      ],
      "execution_count": 25,
      "outputs": [
        {
          "output_type": "stream",
          "name": "stdout",
          "text": [
            "python\n",
            "c\n",
            "ruby\n",
            "python\n"
          ]
        }
      ]
    },
    {
      "cell_type": "markdown",
      "metadata": {
        "id": "ECCIyOE4q_tW"
      },
      "source": [
        "```\n",
        "Looping through all the keys in order\n",
        "```"
      ]
    },
    {
      "cell_type": "code",
      "metadata": {
        "colab": {
          "base_uri": "https://localhost:8080/"
        },
        "id": "3G6N-UYIoz3C",
        "outputId": "b14d111e-0e22-4bbf-e228-1534d944a684"
      },
      "source": [
        "# Show each person's favorite languages,\n",
        "# in order by the person's name.\n",
        "for name in sorted(fav_languages.keys()):\n",
        "  print(name + \": \" + language)"
      ],
      "execution_count": 24,
      "outputs": [
        {
          "output_type": "stream",
          "name": "stdout",
          "text": [
            "edward: python\n",
            "jen: python\n",
            "phil: python\n",
            "sarah: python\n"
          ]
        }
      ]
    },
    {
      "cell_type": "markdown",
      "metadata": {
        "id": "BYKGbM85rR15"
      },
      "source": [
        "Dictionary length"
      ]
    },
    {
      "cell_type": "markdown",
      "metadata": {
        "id": "6rKNjyVhrYJY"
      },
      "source": [
        "You can find the number of key-value pairs in a dictionary."
      ]
    },
    {
      "cell_type": "markdown",
      "metadata": {
        "id": "FwHgDmvYraTz"
      },
      "source": [
        "```\n",
        "Finding a dictionary's length\n",
        "```"
      ]
    },
    {
      "cell_type": "code",
      "metadata": {
        "colab": {
          "base_uri": "https://localhost:8080/"
        },
        "id": "uzohct73rXgH",
        "outputId": "666b7fb9-2ad4-47f8-e287-2dda10657e99"
      },
      "source": [
        "num_responses = len(fav_languages)\n",
        "print(num_responses)"
      ],
      "execution_count": 27,
      "outputs": [
        {
          "output_type": "stream",
          "name": "stdout",
          "text": [
            "4\n"
          ]
        }
      ]
    },
    {
      "cell_type": "markdown",
      "metadata": {
        "id": "6hOUHZJAr3LQ"
      },
      "source": [
        "# Nesting - A list of dictionaries"
      ]
    },
    {
      "cell_type": "markdown",
      "metadata": {
        "id": "hp2-sv3Vr7PA"
      },
      "source": [
        "It's sometimes useful to store a set of dictionaries in a list;\n",
        "this is called nesting."
      ]
    },
    {
      "cell_type": "markdown",
      "metadata": {
        "id": "UQ6NeCXNv-nM"
      },
      "source": [
        "```\n",
        "Storing dictionaries in a list\n",
        "```"
      ]
    },
    {
      "cell_type": "code",
      "metadata": {
        "colab": {
          "base_uri": "https://localhost:8080/"
        },
        "id": "cfFFu1Ohrg8R",
        "outputId": "53ad44d7-bfbb-43fd-9dba-9f06669c2a28"
      },
      "source": [
        "# Start with an empty list.\n",
        "users = []\n",
        "\n",
        "# Make a new user, and add them to the list.\n",
        "new_user = {\n",
        "    'last': 'fermi',\n",
        "    'first': 'enrico',\n",
        "    'username': 'efermi',\n",
        "}\n",
        "users.append(new_user)\n",
        "\n",
        "# Make another new user, and add them as well.\n",
        "new_user = {\n",
        "    'last': 'curie',\n",
        "    'first': 'marie',\n",
        "    'username': 'mcurie',\n",
        "}\n",
        "users.append(new_user)\n",
        "\n",
        "# Show all information about each user.\n",
        "for user_dict in users:\n",
        "  for k, v in user_dict.items():\n",
        "    print(k + ': ' + v)\n",
        "  print('\\n')"
      ],
      "execution_count": 32,
      "outputs": [
        {
          "output_type": "stream",
          "name": "stdout",
          "text": [
            "last: fermi\n",
            "first: enrico\n",
            "username: efermi\n",
            "\n",
            "\n",
            "last: curie\n",
            "first: marie\n",
            "username: mcurie\n",
            "\n",
            "\n"
          ]
        }
      ]
    },
    {
      "cell_type": "markdown",
      "metadata": {
        "id": "CAoIs-ElvY89"
      },
      "source": [
        "```\n",
        "You can also define a list of dictionaries directly,\n",
        "without using append():\n",
        "```"
      ]
    },
    {
      "cell_type": "code",
      "metadata": {
        "colab": {
          "base_uri": "https://localhost:8080/"
        },
        "id": "UMrbjFCCs25e",
        "outputId": "f9e70a0b-17a9-4fe2-c7c9-da54e3575d4a"
      },
      "source": [
        "# Define a list of users, where each user\n",
        "# is represented by a dictionary.\n",
        "users = [\n",
        "         {\n",
        "          'last': 'fermi',\n",
        "          'first': 'enrico',\n",
        "          'username': 'efermi',\n",
        "         },\n",
        "         {\n",
        "          'last': 'curie',\n",
        "          'first': 'mari',\n",
        "          'username': 'mcurie',\n",
        "         },\n",
        "]\n",
        "\n",
        "# Sow all information about each user.\n",
        "for user_dict in users:\n",
        "  for k, v in user_dict.items():\n",
        "    print(k + ': ' + v)\n",
        "  print('\\n')"
      ],
      "execution_count": 34,
      "outputs": [
        {
          "output_type": "stream",
          "name": "stdout",
          "text": [
            "last: fermi\n",
            "first: enrico\n",
            "username: efermi\n",
            "\n",
            "\n",
            "last: curie\n",
            "first: mari\n",
            "username: mcurie\n",
            "\n",
            "\n"
          ]
        }
      ]
    },
    {
      "cell_type": "markdown",
      "metadata": {
        "id": "D3E4IZVpxpvE"
      },
      "source": [
        "# Nesting - Lists in a dictionary"
      ]
    },
    {
      "cell_type": "markdown",
      "metadata": {
        "id": "mzu8YwHgxpg4"
      },
      "source": [
        "Storing a list inside a dictionary alows you to associate\n",
        "more than one value with each key."
      ]
    },
    {
      "cell_type": "markdown",
      "metadata": {
        "id": "z8jl8f4yxo0H"
      },
      "source": [
        "```\n",
        "Storing lists in a dictionary\n",
        "```"
      ]
    },
    {
      "cell_type": "code",
      "metadata": {
        "colab": {
          "base_uri": "https://localhost:8080/"
        },
        "id": "NGRqqisPs3p9",
        "outputId": "240b97b6-7038-4bea-8d8e-f062e0f70682"
      },
      "source": [
        "# Storing lists in a dictionary\n",
        "fav_languages = {\n",
        "    'jen': ['python', 'ruby'],\n",
        "    'sarah': ['c'],\n",
        "    'edward': ['ruby', 'go'],\n",
        "    'phil': ['python', 'haskell'],\n",
        "}\n",
        "\n",
        "# Show all responses for each person.\n",
        "for name, langs in fav_languages.items():\n",
        "  print(name + ': ')\n",
        "  for lang in langs:\n",
        "    print('- ' + lang)"
      ],
      "execution_count": 37,
      "outputs": [
        {
          "output_type": "stream",
          "name": "stdout",
          "text": [
            "jen: \n",
            "- python\n",
            "- ruby\n",
            "sarah: \n",
            "- c\n",
            "edward: \n",
            "- ruby\n",
            "- go\n",
            "phil: \n",
            "- python\n",
            "- haskell\n"
          ]
        }
      ]
    },
    {
      "cell_type": "markdown",
      "metadata": {
        "id": "0PsBDitW6xQz"
      },
      "source": [
        "# Nesting - A dictionary of dictionaries"
      ]
    },
    {
      "cell_type": "markdown",
      "metadata": {
        "id": "7VZfYxVk6xBu"
      },
      "source": [
        "You can store a dictionary inside another dictionary. In this\n",
        "case each value associated with a key is itself a dictionary."
      ]
    },
    {
      "cell_type": "markdown",
      "metadata": {
        "id": "6IJdKqnZ6weu"
      },
      "source": [
        "```\n",
        "Strong dictionaries in a dictionary\n",
        "```"
      ]
    },
    {
      "cell_type": "code",
      "metadata": {
        "colab": {
          "base_uri": "https://localhost:8080/"
        },
        "id": "69rTN_Zj1dNn",
        "outputId": "72b22a22-1d4a-4f14-e7bd-26f7ac2b94a5"
      },
      "source": [
        "users = {\n",
        "    'aeinstein': {\n",
        "        'first': 'albert',\n",
        "        'last': 'einstein',\n",
        "        'location': 'princeton',\n",
        "    },\n",
        "    'mcurie': {\n",
        "        'first': 'marie',\n",
        "        'last': 'curie',\n",
        "        'location': 'paris',\n",
        "    }\n",
        "}\n",
        "\n",
        "for username, user_dict in users.items():\n",
        "  print('\\nUsername: ' + username)\n",
        "  full_name = user_dict['first'] + ' '\n",
        "  full_name += user_dict['last']\n",
        "  location = user_dict['location']\n",
        "\n",
        "  print('\\tFull name: ' + full_name.title())\n",
        "  print('\\tLocation: ' + location.title())"
      ],
      "execution_count": 41,
      "outputs": [
        {
          "output_type": "stream",
          "name": "stdout",
          "text": [
            "\n",
            "Username: aeinstein\n",
            "\tFull name: Albert Einstein\n",
            "\tLocation: Princeton\n",
            "\n",
            "Username: mcurie\n",
            "\tFull name: Marie Curie\n",
            "\tLocation: Paris\n"
          ]
        }
      ]
    },
    {
      "cell_type": "markdown",
      "metadata": {
        "id": "pSaNMrkN8o-5"
      },
      "source": [
        "# Generating a million dictionaries"
      ]
    },
    {
      "cell_type": "markdown",
      "metadata": {
        "id": "P_GVe8AY8owp"
      },
      "source": [
        "You can use a loop to generate a large number of\n",
        "dictionaries efficiently, if all the dictionaries start out with\n",
        "similar data."
      ]
    },
    {
      "cell_type": "markdown",
      "metadata": {
        "id": "XwN4QY0_8oGY"
      },
      "source": [
        "```\n",
        "A million aliens\n",
        "```"
      ]
    },
    {
      "cell_type": "code",
      "metadata": {
        "colab": {
          "base_uri": "https://localhost:8080/"
        },
        "id": "3YOqnblb7NtQ",
        "outputId": "ff38edcb-bb7d-4a4f-e8b8-1ccce407b948"
      },
      "source": [
        "aliens = []\n",
        "\n",
        "# Make a million green aliens, worth 5 points\n",
        "# each. have them all start in one row.\n",
        "for alien_num in range(1000000):\n",
        "  new_alien = {}\n",
        "  new_alien['color'] = 'green'\n",
        "  new_alien['points'] = 5\n",
        "  new_alien['x'] = 20 * alien_num\n",
        "  new_alien['y'] = 0\n",
        "  aliens.append(new_alien)\n",
        "\n",
        "# Prove the list contains a million aliens.\n",
        "num_aliens = len(aliens)\n",
        "\n",
        "print('Number of aliens created:')\n",
        "print(num_aliens)"
      ],
      "execution_count": 49,
      "outputs": [
        {
          "output_type": "stream",
          "name": "stdout",
          "text": [
            "Number of aliens created:\n",
            "1000000\n"
          ]
        }
      ]
    },
    {
      "cell_type": "code",
      "metadata": {
        "id": "8Nk4m4Xe7rNB"
      },
      "source": [
        ""
      ],
      "execution_count": null,
      "outputs": []
    }
  ]
}