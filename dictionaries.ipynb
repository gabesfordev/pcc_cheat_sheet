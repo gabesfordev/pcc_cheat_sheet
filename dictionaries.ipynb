{
  "nbformat": 4,
  "nbformat_minor": 0,
  "metadata": {
    "colab": {
      "name": "dictionaries.ipynb",
      "provenance": [],
      "collapsed_sections": [],
      "authorship_tag": "ABX9TyNd68j3SDvhT/EUiM5p4GgS",
      "include_colab_link": true
    },
    "kernelspec": {
      "name": "python3",
      "display_name": "Python 3"
    },
    "language_info": {
      "name": "python"
    }
  },
  "cells": [
    {
      "cell_type": "markdown",
      "metadata": {
        "id": "view-in-github",
        "colab_type": "text"
      },
      "source": [
        "<a href=\"https://colab.research.google.com/github/gabesfordev/pcc_cheat_sheet/blob/main/dictionaries.ipynb\" target=\"_parent\"><img src=\"https://colab.research.google.com/assets/colab-badge.svg\" alt=\"Open In Colab\"/></a>"
      ]
    },
    {
      "cell_type": "markdown",
      "metadata": {
        "id": "stJuzq_VXg5A"
      },
      "source": [
        "# What are dictionaries?"
      ]
    },
    {
      "cell_type": "markdown",
      "metadata": {
        "id": "uvdQJ0TwXqzf"
      },
      "source": [
        "```\n",
        "Python's dictionaries allow you to connect pieces of\n",
        "related information. Each piece of information in a\n",
        "dictionary is stored as a key-value pair. When you\n",
        "provide a key, Python returns the value associated\n",
        "with that key. You can loop through all the key-value\n",
        "pairs, all the keys, or all the values.\n",
        "```"
      ]
    },
    {
      "cell_type": "markdown",
      "metadata": {
        "id": "0X_fiVP0X5iS"
      },
      "source": [
        "# Defining a dictionary"
      ]
    },
    {
      "cell_type": "markdown",
      "metadata": {
        "id": "FNk1-2_6X9Bn"
      },
      "source": [
        "Use Curly braces to define a dictionary. Use colons to connect keys and values, and use commas to separate individual key-value pairs."
      ]
    },
    {
      "cell_type": "markdown",
      "metadata": {
        "id": "1A_g0c23YULw"
      },
      "source": [
        "```\n",
        "Making a dictionary\n",
        "```"
      ]
    },
    {
      "cell_type": "code",
      "metadata": {
        "id": "QwRG1x6fXdXV"
      },
      "source": [
        "alien_0 = {'color': 'green', 'points': 5}"
      ],
      "execution_count": 1,
      "outputs": []
    },
    {
      "cell_type": "code",
      "metadata": {
        "colab": {
          "base_uri": "https://localhost:8080/"
        },
        "id": "mK7J02C1YfAR",
        "outputId": "6f8fe8f6-e5ac-437d-b6af-5a00877e3f31"
      },
      "source": [
        "alien_0"
      ],
      "execution_count": 2,
      "outputs": [
        {
          "output_type": "execute_result",
          "data": {
            "text/plain": [
              "{'color': 'green', 'points': 5}"
            ]
          },
          "metadata": {},
          "execution_count": 2
        }
      ]
    },
    {
      "cell_type": "code",
      "metadata": {
        "colab": {
          "base_uri": "https://localhost:8080/"
        },
        "id": "FPgfTJz1YiDA",
        "outputId": "d6fd6afc-73b4-4502-af91-144be24ec8ef"
      },
      "source": [
        "print('hello world')"
      ],
      "execution_count": 3,
      "outputs": [
        {
          "output_type": "stream",
          "name": "stdout",
          "text": [
            "hello world\n"
          ]
        }
      ]
    },
    {
      "cell_type": "code",
      "metadata": {
        "id": "i2AHJHKgZFqf"
      },
      "source": [
        ""
      ],
      "execution_count": null,
      "outputs": []
    }
  ]
}